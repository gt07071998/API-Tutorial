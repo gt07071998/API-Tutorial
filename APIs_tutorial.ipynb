{
  "nbformat": 4,
  "nbformat_minor": 0,
  "metadata": {
    "colab": {
      "provenance": []
    },
    "kernelspec": {
      "name": "python3",
      "display_name": "Python 3"
    },
    "language_info": {
      "name": "python"
    }
  },
  "cells": [
    {
      "cell_type": "code",
      "execution_count": null,
      "metadata": {
        "id": "a3gOscUhXJLs"
      },
      "outputs": [],
      "source": []
    },
    {
      "cell_type": "markdown",
      "source": [
        "Here's a step-by-step tutorial on how to use an API with `cURL`, a command-line tool for transferring data using various protocols. We'll cover the basics of sending requests and handling responses.\n",
        "\n",
        "### **1. What is `cURL`?**\n",
        "\n",
        "`cURL` is a command-line tool that allows you to interact with APIs by sending HTTP requests and receiving responses. It's powerful and supports various protocols, but we'll focus on HTTP and HTTPS for interacting with REST APIs.\n",
        "\n",
        "### **2. Install `cURL`**\n",
        "\n",
        "Most systems come with `cURL` pre-installed. You can check if `cURL` is installed by running:\n",
        "\n",
        "```bash\n",
        "curl --version\n",
        "```\n",
        "\n",
        "If it's not installed, you can install it using:\n",
        "\n",
        "- **On Ubuntu/Debian:**\n",
        "  ```bash\n",
        "  sudo apt-get install curl\n",
        "  ```\n",
        "- **On macOS:**\n",
        "  ```bash\n",
        "  brew install curl\n",
        "  ```\n",
        "- **On Windows:**  \n",
        "  Download and install it from the official [cURL website](https://curl.se/windows/).\n",
        "\n",
        "### **3. Basic `cURL` Commands**\n",
        "\n",
        "#### **a. GET Request**\n",
        "\n",
        "A GET request is used to retrieve data from a server.\n",
        "\n",
        "**Example:**\n",
        "\n",
        "```bash\n",
        "curl https://api.example.com/users\n",
        "```\n",
        "\n",
        "**Explanation:**\n",
        "\n",
        "- `curl`: The command to run `cURL`.\n",
        "- `https://api.example.com/users`: The URL of the API endpoint.\n",
        "\n",
        "#### **b. POST Request**\n",
        "\n",
        "A POST request is used to send data to the server, often used for creating new resources.\n",
        "\n",
        "**Example:**\n",
        "\n",
        "```bash\n",
        "curl -X POST https://api.example.com/users -d \"name=JohnDoe&email=johndoe@example.com\"\n",
        "```\n",
        "\n",
        "**Explanation:**\n",
        "\n",
        "- `-X POST`: Specifies the HTTP method (POST).\n",
        "- `-d`: Sends the specified data to the server.\n",
        "\n",
        "#### **c. Adding Headers**\n",
        "\n",
        "Sometimes, APIs require headers like API keys or Content-Type.\n",
        "\n",
        "**Example:**\n",
        "\n",
        "```bash\n",
        "curl -X POST https://api.example.com/users \\\n",
        "     -H \"Content-Type: application/json\" \\\n",
        "     -H \"Authorization: Bearer YOUR_API_KEY\" \\\n",
        "     -d '{\"name\": \"JohnDoe\", \"email\": \"johndoe@example.com\"}'\n",
        "```\n",
        "\n",
        "**Explanation:**\n",
        "\n",
        "- `-H \"Content-Type: application/json\"`: Specifies the content type.\n",
        "- `-H \"Authorization: Bearer YOUR_API_KEY\"`: Adds an authorization header.\n",
        "\n",
        "#### **d. PUT Request**\n",
        "\n",
        "A PUT request is used to update an existing resource.\n",
        "\n",
        "**Example:**\n",
        "\n",
        "```bash\n",
        "curl -X PUT https://api.example.com/users/1 \\\n",
        "     -H \"Content-Type: application/json\" \\\n",
        "     -d '{\"name\": \"JohnDoeUpdated\"}'\n",
        "```\n",
        "\n",
        "**Explanation:**\n",
        "\n",
        "- `-X PUT`: Specifies the HTTP method (PUT).\n",
        "- `https://api.example.com/users/1`: The URL of the resource to be updated.\n",
        "\n",
        "#### **e. DELETE Request**\n",
        "\n",
        "A DELETE request is used to delete a resource.\n",
        "\n",
        "**Example:**\n",
        "\n",
        "```bash\n",
        "curl -X DELETE https://api.example.com/users/1\n",
        "```\n",
        "\n",
        "**Explanation:**\n",
        "\n",
        "- `-X DELETE`: Specifies the HTTP method (DELETE).\n",
        "\n",
        "### **4. Handling Responses**\n",
        "\n",
        "By default, `cURL` prints the response to the terminal. To save it to a file, use the `-o` option.\n",
        "\n",
        "**Example:**\n",
        "\n",
        "```bash\n",
        "curl https://api.example.com/users -o response.json\n",
        "```\n",
        "\n",
        "**Explanation:**\n",
        "\n",
        "- `-o response.json`: Saves the output to `response.json`.\n",
        "\n",
        "### **5. Advanced `cURL` Options**\n",
        "\n",
        "- **Verbose Output:**\n",
        "\n",
        "  To see detailed information about the request and response, use the `-v` option:\n",
        "\n",
        "  ```bash\n",
        "  curl -v https://api.example.com/users\n",
        "  ```\n",
        "\n",
        "- **Follow Redirects:**\n",
        "\n",
        "  Some APIs might redirect you to a different URL. To automatically follow redirects, use the `-L` option:\n",
        "\n",
        "  ```bash\n",
        "  curl -L https://api.example.com/users\n",
        "  ```\n",
        "\n",
        "- **Including Data from a File:**\n",
        "\n",
        "  You can send data from a file using the `-d` option:\n",
        "\n",
        "  ```bash\n",
        "  curl -X POST https://api.example.com/users -d @data.json\n",
        "  ```\n",
        "\n",
        "### **6. Example: Making a Complete API Call**\n",
        "\n",
        "Here’s a complete example of making a POST request with headers, JSON data, and saving the response to a file:\n",
        "\n",
        "```bash\n",
        "curl -X POST https://api.example.com/users \\\n",
        "     -H \"Content-Type: application/json\" \\\n",
        "     -H \"Authorization: Bearer YOUR_API_KEY\" \\\n",
        "     -d @data.json \\\n",
        "     -o response.json\n",
        "```\n",
        "\n",
        "### **7. Conclusion**\n",
        "\n",
        "This guide covered the basics of using `cURL` to interact with APIs. `cURL` is a powerful tool, and mastering it can make your work with APIs more efficient and flexible. For more advanced usage, check the [official cURL documentation](https://curl.se/docs/manpage.html)."
      ],
      "metadata": {
        "id": "Dla2RZpDXKAS"
      }
    },
    {
      "cell_type": "markdown",
      "source": [
        "# **Examples**"
      ],
      "metadata": {
        "id": "TiAoFXsmbDOL"
      }
    },
    {
      "cell_type": "markdown",
      "source": [
        "## Post request"
      ],
      "metadata": {
        "id": "D93ZQP24bKlD"
      }
    },
    {
      "cell_type": "code",
      "source": [
        "!curl --request POST \\\n",
        "  --url \"https://api.elevenlabs.io/v1/text-to-speech/EXAVITQu4vr4xnSDxMaL\" \\\n",
        "  --header \"Content-Type: application/json\" \\\n",
        "  --header \"xi-api-key:sk_b4f1cffc64fda0c0d5a0b81b86f1c11b6ad657ade552147c\" \\\n",
        "  --data '{\"voice_settings\": {\"stability\": 0.1, \"similarity_boost\": 0.3, \"style\": 0.2}, \"text\": \"Hi my name is Gaurav\"}'\\\n",
        "  --output \"gt.mp3\""
      ],
      "metadata": {
        "colab": {
          "base_uri": "https://localhost:8080/"
        },
        "id": "DxQXxQ6XXVuZ",
        "outputId": "023cce1c-65f5-48ba-bb95-d76c1308c9d3"
      },
      "execution_count": 25,
      "outputs": [
        {
          "output_type": "stream",
          "name": "stdout",
          "text": [
            "  % Total    % Received % Xferd  Average Speed   Time    Time     Time  Current\n",
            "                                 Dload  Upload   Total   Spent    Left  Speed\n",
            "100 23096  100 22987  100   109  21439    101  0:00:01  0:00:01 --:--:-- 21544\n"
          ]
        }
      ]
    },
    {
      "cell_type": "markdown",
      "source": [
        "## GET Request"
      ],
      "metadata": {
        "id": "DBUQCQvUbQX2"
      }
    },
    {
      "cell_type": "code",
      "source": [
        "!curl --request GET \\\n",
        "  --url \"https://api.elevenlabs.io/v1/voices\""
      ],
      "metadata": {
        "colab": {
          "base_uri": "https://localhost:8080/"
        },
        "id": "g7gA41R7Yfku",
        "outputId": "cf76c61d-745d-4ca6-dd76-74b2354b988b"
      },
      "execution_count": 10,
      "outputs": [
        {
          "output_type": "stream",
          "name": "stdout",
          "text": [
            "{\"voices\":[{\"voice_id\":\"EXAVITQu4vr4xnSDxMaL\",\"name\":\"Sarah\",\"samples\":null,\"category\":\"premade\",\"fine_tuning\":{\"is_allowed_to_fine_tune\":true,\"state\":{},\"verification_failures\":[],\"verification_attempts_count\":0,\"manual_verification_requested\":false,\"language\":\"en\",\"progress\":{},\"message\":{},\"dataset_duration_seconds\":null,\"verification_attempts\":null,\"slice_ids\":null,\"manual_verification\":null},\"labels\":{\"description\":\"soft\",\"age\":\"young\",\"gender\":\"female\",\"accent\":\"american\",\"use_case\":\"news\"},\"description\":null,\"preview_url\":\"https://storage.googleapis.com/eleven-public-prod/premade/voices/EXAVITQu4vr4xnSDxMaL/01a3e33c-6e99-4ee7-8543-ff2216a32186.mp3\",\"available_for_tiers\":[],\"settings\":null,\"sharing\":null,\"high_quality_base_model_ids\":[\"eleven_turbo_v2\",\"eleven_multilingual_v2\",\"eleven_turbo_v2_5\"],\"safety_control\":null,\"voice_verification\":{\"requires_verification\":false,\"is_verified\":false,\"verification_failures\":[],\"verification_attempts_count\":0,\"language\":null,\"verification_attempts\":null},\"owner_id\":null,\"permission_on_resource\":null,\"is_legacy\":false},{\"voice_id\":\"FGY2WhTYpPnrIDTdsKH5\",\"name\":\"Laura\",\"samples\":null,\"category\":\"premade\",\"fine_tuning\":{\"is_allowed_to_fine_tune\":true,\"state\":{\"eleven_multilingual_v2\":\"fine_tuned\",\"eleven_turbo_v2\":\"fine_tuned\",\"eleven_turbo_v2_5\":\"fine_tuned\"},\"verification_failures\":[],\"verification_attempts_count\":0,\"manual_verification_requested\":false,\"language\":\"en\",\"progress\":{},\"message\":{\"eleven_multilingual_v2\":\"\",\"eleven_turbo_v2\":\"\",\"eleven_turbo_v2_5\":\"\"},\"dataset_duration_seconds\":null,\"verification_attempts\":null,\"slice_ids\":null,\"manual_verification\":null},\"labels\":{\"age\":\"young\",\"accent\":\"American\",\"gender\":\"female\",\"description\":\"upbeat\",\"use_case\":\"social media\"},\"description\":null,\"preview_url\":\"https://storage.googleapis.com/eleven-public-prod/premade/voices/FGY2WhTYpPnrIDTdsKH5/67341759-ad08-41a5-be6e-de12fe448618.mp3\",\"available_for_tiers\":[],\"settings\":null,\"sharing\":null,\"high_quality_base_model_ids\":[\"eleven_turbo_v2\",\"eleven_multilingual_v2\",\"eleven_turbo_v2_5\"],\"safety_control\":null,\"voice_verification\":{\"requires_verification\":false,\"is_verified\":false,\"verification_failures\":[],\"verification_attempts_count\":0,\"language\":null,\"verification_attempts\":null},\"owner_id\":null,\"permission_on_resource\":null,\"is_legacy\":false},{\"voice_id\":\"IKne3meq5aSn9XLyUdCD\",\"name\":\"Charlie\",\"samples\":null,\"category\":\"premade\",\"fine_tuning\":{\"is_allowed_to_fine_tune\":true,\"state\":{\"eleven_turbo_v2\":\"fine_tuned\"},\"verification_failures\":[],\"verification_attempts_count\":0,\"manual_verification_requested\":false,\"language\":\"en\",\"progress\":{},\"message\":{\"eleven_turbo_v2\":\"\"},\"dataset_duration_seconds\":null,\"verification_attempts\":null,\"slice_ids\":null,\"manual_verification\":null},\"labels\":{\"age\":\"middle aged\",\"use_case\":\"conversational\",\"accent\":\"Australian\",\"description\":\"natural\",\"gender\":\"male\"},\"description\":null,\"preview_url\":\"https://storage.googleapis.com/eleven-public-prod/premade/voices/IKne3meq5aSn9XLyUdCD/102de6f2-22ed-43e0-a1f1-111fa75c5481.mp3\",\"available_for_tiers\":[],\"settings\":null,\"sharing\":null,\"high_quality_base_model_ids\":[\"eleven_multilingual_v1\",\"eleven_turbo_v2\",\"eleven_multilingual_v2\",\"eleven_turbo_v2_5\"],\"safety_control\":null,\"voice_verification\":{\"requires_verification\":false,\"is_verified\":false,\"verification_failures\":[],\"verification_attempts_count\":0,\"language\":null,\"verification_attempts\":null},\"owner_id\":null,\"permission_on_resource\":null,\"is_legacy\":false},{\"voice_id\":\"JBFqnCBsd6RMkjVDRZzb\",\"name\":\"George\",\"samples\":null,\"category\":\"premade\",\"fine_tuning\":{\"is_allowed_to_fine_tune\":true,\"state\":{\"eleven_turbo_v2\":\"fine_tuned\"},\"verification_failures\":[],\"verification_attempts_count\":0,\"manual_verification_requested\":false,\"language\":\"en\",\"progress\":{},\"message\":{\"eleven_turbo_v2\":\"\"},\"dataset_duration_seconds\":null,\"verification_attempts\":null,\"slice_ids\":null,\"manual_verification\":null},\"labels\":{\"description\":\"warm\",\"age\":\"middle aged\",\"use_case\":\"narration\",\"accent\":\"British\",\"gender\":\"male\"},\"description\":null,\"preview_url\":\"https://storage.googleapis.com/eleven-public-prod/premade/voices/JBFqnCBsd6RMkjVDRZzb/e6206d1a-0721-4787-aafb-06a6e705cac5.mp3\",\"available_for_tiers\":[],\"settings\":null,\"sharing\":null,\"high_quality_base_model_ids\":[\"eleven_turbo_v2\",\"eleven_multilingual_v2\",\"eleven_turbo_v2_5\"],\"safety_control\":null,\"voice_verification\":{\"requires_verification\":false,\"is_verified\":false,\"verification_failures\":[],\"verification_attempts_count\":0,\"language\":null,\"verification_attempts\":null},\"owner_id\":null,\"permission_on_resource\":null,\"is_legacy\":false},{\"voice_id\":\"N2lVS1w4EtoT3dr4eOWO\",\"name\":\"Callum\",\"samples\":null,\"category\":\"premade\",\"fine_tuning\":{\"is_allowed_to_fine_tune\":true,\"state\":{\"eleven_turbo_v2\":\"fine_tuned\"},\"verification_failures\":[],\"verification_attempts_count\":0,\"manual_verification_requested\":false,\"language\":\"en\",\"progress\":{},\"message\":{\"eleven_turbo_v2\":\"\"},\"dataset_duration_seconds\":null,\"verification_attempts\":null,\"slice_ids\":null,\"manual_verification\":null},\"labels\":{\"use_case\":\"characters\",\"accent\":\"Transatlantic\",\"description\":\"intense\",\"age\":\"middle-aged\",\"gender\":\"male\"},\"description\":null,\"preview_url\":\"https://storage.googleapis.com/eleven-public-prod/premade/voices/N2lVS1w4EtoT3dr4eOWO/ac833bd8-ffda-4938-9ebc-b0f99ca25481.mp3\",\"available_for_tiers\":[],\"settings\":null,\"sharing\":null,\"high_quality_base_model_ids\":[\"eleven_multilingual_v1\",\"eleven_turbo_v2\",\"eleven_multilingual_v2\",\"eleven_turbo_v2_5\"],\"safety_control\":null,\"voice_verification\":{\"requires_verification\":false,\"is_verified\":false,\"verification_failures\":[],\"verification_attempts_count\":0,\"language\":null,\"verification_attempts\":null},\"owner_id\":null,\"permission_on_resource\":null,\"is_legacy\":false},{\"voice_id\":\"TX3LPaxmHKxFdv7VOQHJ\",\"name\":\"Liam\",\"samples\":null,\"category\":\"premade\",\"fine_tuning\":{\"is_allowed_to_fine_tune\":true,\"state\":{\"eleven_turbo_v2\":\"fine_tuned\"},\"verification_failures\":[],\"verification_attempts_count\":0,\"manual_verification_requested\":false,\"language\":\"en\",\"progress\":{},\"message\":{\"eleven_turbo_v2\":\"\"},\"dataset_duration_seconds\":null,\"verification_attempts\":null,\"slice_ids\":null,\"manual_verification\":null},\"labels\":{\"accent\":\"American\",\"description\":\"articulate\",\"age\":\"young\",\"use_case\":\"narration\",\"gender\":\"male\"},\"description\":null,\"preview_url\":\"https://storage.googleapis.com/eleven-public-prod/premade/voices/TX3LPaxmHKxFdv7VOQHJ/63148076-6363-42db-aea8-31424308b92c.mp3\",\"available_for_tiers\":[],\"settings\":null,\"sharing\":null,\"high_quality_base_model_ids\":[\"eleven_multilingual_v1\",\"eleven_turbo_v2\",\"eleven_multilingual_v2\",\"eleven_turbo_v2_5\"],\"safety_control\":null,\"voice_verification\":{\"requires_verification\":false,\"is_verified\":false,\"verification_failures\":[],\"verification_attempts_count\":0,\"language\":null,\"verification_attempts\":null},\"owner_id\":null,\"permission_on_resource\":null,\"is_legacy\":false},{\"voice_id\":\"XB0fDUnXU5powFXDhCwa\",\"name\":\"Charlotte\",\"samples\":null,\"category\":\"premade\",\"fine_tuning\":{\"is_allowed_to_fine_tune\":true,\"state\":{\"eleven_turbo_v2\":\"fine_tuned\"},\"verification_failures\":[],\"verification_attempts_count\":0,\"manual_verification_requested\":false,\"language\":\"en\",\"progress\":{},\"message\":{\"eleven_turbo_v2_5\":\"\",\"eleven_multilingual_v2\":\"\",\"eleven_turbo_v2\":\"\"},\"dataset_duration_seconds\":null,\"verification_attempts\":null,\"slice_ids\":null,\"manual_verification\":null},\"labels\":{\"accent\":\"Swedish\",\"description\":\"seductive\",\"gender\":\"female\",\"use_case\":\"characters\",\"age\":\"young\"},\"description\":null,\"preview_url\":\"https://storage.googleapis.com/eleven-public-prod/premade/voices/XB0fDUnXU5powFXDhCwa/942356dc-f10d-4d89-bda5-4f8505ee038b.mp3\",\"available_for_tiers\":[],\"settings\":null,\"sharing\":null,\"high_quality_base_model_ids\":[\"eleven_multilingual_v1\",\"eleven_turbo_v2\",\"eleven_multilingual_v2\",\"eleven_turbo_v2_5\"],\"safety_control\":null,\"voice_verification\":{\"requires_verification\":false,\"is_verified\":false,\"verification_failures\":[],\"verification_attempts_count\":0,\"language\":null,\"verification_attempts\":null},\"owner_id\":null,\"permission_on_resource\":null,\"is_legacy\":false},{\"voice_id\":\"Xb7hH8MSUJpSbSDYk0k2\",\"name\":\"Alice\",\"samples\":null,\"category\":\"premade\",\"fine_tuning\":{\"is_allowed_to_fine_tune\":true,\"state\":{\"eleven_turbo_v2\":\"fine_tuned\"},\"verification_failures\":[],\"verification_attempts_count\":0,\"manual_verification_requested\":false,\"language\":\"en\",\"progress\":{},\"message\":{\"eleven_turbo_v2\":\"\"},\"dataset_duration_seconds\":null,\"verification_attempts\":null,\"slice_ids\":null,\"manual_verification\":null},\"labels\":{\"age\":\"middle-aged\",\"description\":\"confident\",\"gender\":\"female\",\"use_case\":\"news\",\"accent\":\"British\"},\"description\":null,\"preview_url\":\"https://storage.googleapis.com/eleven-public-prod/premade/voices/Xb7hH8MSUJpSbSDYk0k2/d10f7534-11f6-41fe-a012-2de1e482d336.mp3\",\"available_for_tiers\":[],\"settings\":null,\"sharing\":null,\"high_quality_base_model_ids\":[\"eleven_turbo_v2\",\"eleven_multilingual_v2\",\"eleven_turbo_v2_5\"],\"safety_control\":null,\"voice_verification\":{\"requires_verification\":false,\"is_verified\":false,\"verification_failures\":[],\"verification_attempts_count\":0,\"language\":null,\"verification_attempts\":null},\"owner_id\":null,\"permission_on_resource\":null,\"is_legacy\":false},{\"voice_id\":\"XrExE9yKIg1WjnnlVkGX\",\"name\":\"Matilda\",\"samples\":null,\"category\":\"premade\",\"fine_tuning\":{\"is_allowed_to_fine_tune\":true,\"state\":{\"eleven_turbo_v2\":\"fine_tuned\"},\"verification_failures\":[],\"verification_attempts_count\":0,\"manual_verification_requested\":false,\"language\":\"en\",\"progress\":{},\"message\":{\"eleven_turbo_v2\":\"\"},\"dataset_duration_seconds\":null,\"verification_attempts\":null,\"slice_ids\":null,\"manual_verification\":null},\"labels\":{\"gender\":\"female\",\"use_case\":\"narration\",\"accent\":\"American\",\"description\":\"friendly\",\"age\":\"middle-aged\"},\"description\":null,\"preview_url\":\"https://storage.googleapis.com/eleven-public-prod/premade/voices/XrExE9yKIg1WjnnlVkGX/b930e18d-6b4d-466e-bab2-0ae97c6d8535.mp3\",\"available_for_tiers\":[],\"settings\":null,\"sharing\":null,\"high_quality_base_model_ids\":[\"eleven_multilingual_v1\",\"eleven_turbo_v2\",\"eleven_multilingual_v2\",\"eleven_turbo_v2_5\"],\"safety_control\":null,\"voice_verification\":{\"requires_verification\":false,\"is_verified\":false,\"verification_failures\":[],\"verification_attempts_count\":0,\"language\":null,\"verification_attempts\":null},\"owner_id\":null,\"permission_on_resource\":null,\"is_legacy\":false},{\"voice_id\":\"bIHbv24MWmeRgasZH58o\",\"name\":\"Will\",\"samples\":null,\"category\":\"premade\",\"fine_tuning\":{\"is_allowed_to_fine_tune\":true,\"state\":{\"eleven_multilingual_v2\":\"fine_tuned\",\"eleven_turbo_v2_5\":\"fine_tuned\",\"eleven_turbo_v2\":\"fine_tuned\"},\"verification_failures\":[],\"verification_attempts_count\":0,\"manual_verification_requested\":false,\"language\":\"en\",\"progress\":{},\"message\":{\"eleven_turbo_v2\":\"\",\"eleven_turbo_v2_5\":\"\",\"eleven_multilingual_v2\":\"\"},\"dataset_duration_seconds\":null,\"verification_attempts\":null,\"slice_ids\":null,\"manual_verification\":null},\"labels\":{\"gender\":\"male\",\"description\":\"friendly\",\"accent\":\"American\",\"use_case\":\"social media\",\"age\":\"young\"},\"description\":null,\"preview_url\":\"https://storage.googleapis.com/eleven-public-prod/premade/voices/bIHbv24MWmeRgasZH58o/8caf8f3d-ad29-4980-af41-53f20c72d7a4.mp3\",\"available_for_tiers\":[],\"settings\":null,\"sharing\":null,\"high_quality_base_model_ids\":[\"eleven_turbo_v2\",\"eleven_multilingual_v2\",\"eleven_turbo_v2_5\"],\"safety_control\":null,\"voice_verification\":{\"requires_verification\":false,\"is_verified\":false,\"verification_failures\":[],\"verification_attempts_count\":0,\"language\":null,\"verification_attempts\":null},\"owner_id\":null,\"permission_on_resource\":null,\"is_legacy\":false},{\"voice_id\":\"cgSgspJ2msm6clMCkdW9\",\"name\":\"Jessica\",\"samples\":null,\"category\":\"premade\",\"fine_tuning\":{\"is_allowed_to_fine_tune\":true,\"state\":{\"eleven_multilingual_v2\":\"fine_tuned\",\"eleven_turbo_v2\":\"fine_tuned\",\"eleven_turbo_v2_5\":\"fine_tuned\"},\"verification_failures\":[],\"verification_attempts_count\":0,\"manual_verification_requested\":false,\"language\":\"en\",\"progress\":{},\"message\":{\"eleven_turbo_v2_5\":\"\",\"eleven_turbo_v2\":\"\",\"eleven_multilingual_v2\":\"\"},\"dataset_duration_seconds\":null,\"verification_attempts\":null,\"slice_ids\":null,\"manual_verification\":null},\"labels\":{\"description\":\"expressive\",\"accent\":\"American\",\"age\":\"young\",\"use_case\":\"conversational\",\"gender\":\"female\"},\"description\":null,\"preview_url\":\"https://storage.googleapis.com/eleven-public-prod/premade/voices/cgSgspJ2msm6clMCkdW9/56a97bf8-b69b-448f-846c-c3a11683d45a.mp3\",\"available_for_tiers\":[],\"settings\":null,\"sharing\":null,\"high_quality_base_model_ids\":[\"eleven_turbo_v2\",\"eleven_multilingual_v2\",\"eleven_turbo_v2_5\"],\"safety_control\":null,\"voice_verification\":{\"requires_verification\":false,\"is_verified\":false,\"verification_failures\":[],\"verification_attempts_count\":0,\"language\":null,\"verification_attempts\":null},\"owner_id\":null,\"permission_on_resource\":null,\"is_legacy\":false},{\"voice_id\":\"cjVigY5qzO86Huf0OWal\",\"name\":\"Eric\",\"samples\":null,\"category\":\"premade\",\"fine_tuning\":{\"is_allowed_to_fine_tune\":true,\"state\":{\"eleven_multilingual_v2\":\"fine_tuned\",\"eleven_turbo_v2\":\"fine_tuned\",\"eleven_turbo_v2_5\":\"fine_tuned\"},\"verification_failures\":[],\"verification_attempts_count\":0,\"manual_verification_requested\":false,\"language\":\"en\",\"progress\":{},\"message\":{\"eleven_turbo_v2\":\"\",\"eleven_turbo_v2_5\":\"\",\"eleven_multilingual_v2\":\"\"},\"dataset_duration_seconds\":null,\"verification_attempts\":null,\"slice_ids\":null,\"manual_verification\":null},\"labels\":{\"accent\":\"American\",\"age\":\"middle-aged\",\"use_case\":\"conversational\",\"description\":\"friendly\",\"gender\":\"male\"},\"description\":null,\"preview_url\":\"https://storage.googleapis.com/eleven-public-prod/premade/voices/cjVigY5qzO86Huf0OWal/d098fda0-6456-4030-b3d8-63aa048c9070.mp3\",\"available_for_tiers\":[],\"settings\":null,\"sharing\":null,\"high_quality_base_model_ids\":[\"eleven_turbo_v2\",\"eleven_multilingual_v2\",\"eleven_turbo_v2_5\"],\"safety_control\":null,\"voice_verification\":{\"requires_verification\":false,\"is_verified\":false,\"verification_failures\":[],\"verification_attempts_count\":0,\"language\":null,\"verification_attempts\":null},\"owner_id\":null,\"permission_on_resource\":null,\"is_legacy\":false},{\"voice_id\":\"iP95p4xoKVk53GoZ742B\",\"name\":\"Chris\",\"samples\":null,\"category\":\"premade\",\"fine_tuning\":{\"is_allowed_to_fine_tune\":true,\"state\":{\"eleven_turbo_v2\":\"fine_tuned\"},\"verification_failures\":[],\"verification_attempts_count\":0,\"manual_verification_requested\":false,\"language\":\"en\",\"progress\":{},\"message\":{\"eleven_turbo_v2\":\"\"},\"dataset_duration_seconds\":null,\"verification_attempts\":null,\"slice_ids\":null,\"manual_verification\":null},\"labels\":{\"age\":\"middle-aged\",\"gender\":\"male\",\"description\":\"casual\",\"accent\":\"American\",\"use_case\":\"conversational\"},\"description\":null,\"preview_url\":\"https://storage.googleapis.com/eleven-public-prod/premade/voices/iP95p4xoKVk53GoZ742B/3f4bde72-cc48-40dd-829f-57fbf906f4d7.mp3\",\"available_for_tiers\":[],\"settings\":null,\"sharing\":null,\"high_quality_base_model_ids\":[\"eleven_turbo_v2\",\"eleven_multilingual_v2\",\"eleven_turbo_v2_5\"],\"safety_control\":null,\"voice_verification\":{\"requires_verification\":false,\"is_verified\":false,\"verification_failures\":[],\"verification_attempts_count\":0,\"language\":null,\"verification_attempts\":null},\"owner_id\":null,\"permission_on_resource\":null,\"is_legacy\":false},{\"voice_id\":\"nPczCjzI2devNBz1zQrb\",\"name\":\"Brian\",\"samples\":null,\"category\":\"premade\",\"fine_tuning\":{\"is_allowed_to_fine_tune\":true,\"state\":{\"eleven_turbo_v2\":\"fine_tuned\"},\"verification_failures\":[],\"verification_attempts_count\":0,\"manual_verification_requested\":false,\"language\":\"en\",\"progress\":{},\"message\":{\"eleven_turbo_v2\":\"\"},\"dataset_duration_seconds\":null,\"verification_attempts\":null,\"slice_ids\":null,\"manual_verification\":null},\"labels\":{\"age\":\"middle-aged\",\"accent\":\"American\",\"gender\":\"male\",\"description\":\"deep\",\"use_case\":\"narration\"},\"description\":null,\"preview_url\":\"https://storage.googleapis.com/eleven-public-prod/premade/voices/nPczCjzI2devNBz1zQrb/2dd3e72c-4fd3-42f1-93ea-abc5d4e5aa1d.mp3\",\"available_for_tiers\":[],\"settings\":null,\"sharing\":null,\"high_quality_base_model_ids\":[\"eleven_turbo_v2\",\"eleven_multilingual_v2\",\"eleven_turbo_v2_5\"],\"safety_control\":null,\"voice_verification\":{\"requires_verification\":false,\"is_verified\":false,\"verification_failures\":[],\"verification_attempts_count\":0,\"language\":null,\"verification_attempts\":null},\"owner_id\":null,\"permission_on_resource\":null,\"is_legacy\":false},{\"voice_id\":\"onwK4e9ZLuTAKqWW03F9\",\"name\":\"Daniel\",\"samples\":null,\"category\":\"premade\",\"fine_tuning\":{\"is_allowed_to_fine_tune\":true,\"state\":{\"eleven_turbo_v2\":\"fine_tuned\"},\"verification_failures\":[],\"verification_attempts_count\":0,\"manual_verification_requested\":false,\"language\":\"en\",\"progress\":{},\"message\":{\"eleven_turbo_v2\":\"\"},\"dataset_duration_seconds\":null,\"verification_attempts\":null,\"slice_ids\":null,\"manual_verification\":null},\"labels\":{\"description\":\"authoritative\",\"gender\":\"male\",\"age\":\"middle-aged\",\"accent\":\"British\",\"use_case\":\"news\"},\"description\":null,\"preview_url\":\"https://storage.googleapis.com/eleven-public-prod/premade/voices/onwK4e9ZLuTAKqWW03F9/7eee0236-1a72-4b86-b303-5dcadc007ba9.mp3\",\"available_for_tiers\":[],\"settings\":null,\"sharing\":null,\"high_quality_base_model_ids\":[\"eleven_multilingual_v1\",\"eleven_turbo_v2\",\"eleven_multilingual_v2\",\"eleven_turbo_v2_5\"],\"safety_control\":null,\"voice_verification\":{\"requires_verification\":false,\"is_verified\":false,\"verification_failures\":[],\"verification_attempts_count\":0,\"language\":null,\"verification_attempts\":null},\"owner_id\":null,\"permission_on_resource\":null,\"is_legacy\":false},{\"voice_id\":\"pFZP5JQG7iQjIQuC4Bku\",\"name\":\"Lily\",\"samples\":null,\"category\":\"premade\",\"fine_tuning\":{\"is_allowed_to_fine_tune\":true,\"state\":{\"eleven_turbo_v2\":\"fine_tuned\"},\"verification_failures\":[],\"verification_attempts_count\":0,\"manual_verification_requested\":false,\"language\":\"en\",\"progress\":{},\"message\":{\"eleven_turbo_v2\":\"\"},\"dataset_duration_seconds\":null,\"verification_attempts\":null,\"slice_ids\":null,\"manual_verification\":null},\"labels\":{\"description\":\"warm\",\"accent\":\"British\",\"use_case\":\"narration\",\"age\":\"middle-aged\",\"gender\":\"female\"},\"description\":null,\"preview_url\":\"https://storage.googleapis.com/eleven-public-prod/premade/voices/pFZP5JQG7iQjIQuC4Bku/89b68b35-b3dd-4348-a84a-a3c13a3c2b30.mp3\",\"available_for_tiers\":[],\"settings\":null,\"sharing\":null,\"high_quality_base_model_ids\":[\"eleven_turbo_v2\",\"eleven_multilingual_v2\",\"eleven_turbo_v2_5\"],\"safety_control\":null,\"voice_verification\":{\"requires_verification\":false,\"is_verified\":false,\"verification_failures\":[],\"verification_attempts_count\":0,\"language\":null,\"verification_attempts\":null},\"owner_id\":null,\"permission_on_resource\":null,\"is_legacy\":false},{\"voice_id\":\"pqHfZKP75CvOlQylNhV4\",\"name\":\"Bill\",\"samples\":null,\"category\":\"premade\",\"fine_tuning\":{\"is_allowed_to_fine_tune\":true,\"state\":{\"eleven_turbo_v2\":\"fine_tuned\"},\"verification_failures\":[],\"verification_attempts_count\":0,\"manual_verification_requested\":false,\"language\":\"en\",\"progress\":{},\"message\":{\"eleven_turbo_v2\":\"\"},\"dataset_duration_seconds\":null,\"verification_attempts\":null,\"slice_ids\":null,\"manual_verification\":null},\"labels\":{\"accent\":\"American\",\"use_case\":\"narration\",\"age\":\"old\",\"description\":\"trustworthy\",\"gender\":\"male\"},\"description\":null,\"preview_url\":\"https://storage.googleapis.com/eleven-public-prod/premade/voices/pqHfZKP75CvOlQylNhV4/d782b3ff-84ba-4029-848c-acf01285524d.mp3\",\"available_for_tiers\":[],\"settings\":null,\"sharing\":null,\"high_quality_base_model_ids\":[\"eleven_turbo_v2\",\"eleven_multilingual_v2\",\"eleven_turbo_v2_5\"],\"safety_control\":null,\"voice_verification\":{\"requires_verification\":false,\"is_verified\":false,\"verification_failures\":[],\"verification_attempts_count\":0,\"language\":null,\"verification_attempts\":null},\"owner_id\":null,\"permission_on_resource\":null,\"is_legacy\":false}]}"
          ]
        }
      ]
    },
    {
      "cell_type": "code",
      "source": [],
      "metadata": {
        "id": "n2qtRb8fYvKs"
      },
      "execution_count": null,
      "outputs": []
    }
  ]
}